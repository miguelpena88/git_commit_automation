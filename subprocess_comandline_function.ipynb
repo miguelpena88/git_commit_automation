{
 "cells": [
  {
   "cell_type": "code",
   "execution_count": 2,
   "metadata": {},
   "outputs": [],
   "source": [
    "import pandas as pd\n",
    "import numpy as np"
   ]
  },
  {
   "cell_type": "code",
   "execution_count": 3,
   "metadata": {},
   "outputs": [],
   "source": [
    "import subprocess"
   ]
  },
  {
   "cell_type": "code",
   "execution_count": null,
   "metadata": {},
   "outputs": [],
   "source": []
  },
  {
   "cell_type": "markdown",
   "metadata": {},
   "source": [
    "# Testing Subprocess"
   ]
  },
  {
   "cell_type": "code",
   "execution_count": 4,
   "metadata": {},
   "outputs": [
    {
     "data": {
      "text/plain": [
       "0"
      ]
     },
     "execution_count": 4,
     "metadata": {},
     "output_type": "execute_result"
    }
   ],
   "source": [
    "subprocess.call('ls',shell=True)"
   ]
  },
  {
   "cell_type": "markdown",
   "metadata": {},
   "source": [
    "The above code runs on the command line associated with the current enviorment. There is no visible output in this current note book, besides for the '0'"
   ]
  },
  {
   "cell_type": "code",
   "execution_count": 5,
   "metadata": {},
   "outputs": [],
   "source": [
    "output = subprocess.check_output('ls',shell=True,universal_newlines=True)"
   ]
  },
  {
   "cell_type": "markdown",
   "metadata": {},
   "source": [
    "this loads the output into a variable that we can then print. The activity however does not show up on the commandline of our enviorment"
   ]
  },
  {
   "cell_type": "code",
   "execution_count": 6,
   "metadata": {},
   "outputs": [
    {
     "name": "stdout",
     "output_type": "stream",
     "text": [
      "README.md\n",
      "notebook_self_edit_function.ipynb\n",
      "subprocess_comandline_function.ipynb\n",
      "\n"
     ]
    }
   ],
   "source": [
    "print(output)"
   ]
  },
  {
   "cell_type": "code",
   "execution_count": 7,
   "metadata": {},
   "outputs": [
    {
     "data": {
      "text/plain": [
       "str"
      ]
     },
     "execution_count": 7,
     "metadata": {},
     "output_type": "execute_result"
    }
   ],
   "source": [
    "type(output)"
   ]
  },
  {
   "cell_type": "markdown",
   "metadata": {},
   "source": [
    " if you put: universal_newlines=True within subprocess.check_output(), or most of the other functions within subprocess, then instead of receiving a binary stream, it is interpreted with new lines"
   ]
  },
  {
   "cell_type": "code",
   "execution_count": 8,
   "metadata": {},
   "outputs": [
    {
     "data": {
      "text/plain": [
       "'README.md\\nnotebook_self_edit_function.ipynb\\nsubprocess_comandline_function.ipynb\\n'"
      ]
     },
     "execution_count": 8,
     "metadata": {},
     "output_type": "execute_result"
    }
   ],
   "source": [
    "output"
   ]
  },
  {
   "cell_type": "code",
   "execution_count": 9,
   "metadata": {},
   "outputs": [
    {
     "name": "stdout",
     "output_type": "stream",
     "text": [
      "README.md\n",
      "notebook_self_edit_function.ipynb\n",
      "subprocess_comandline_function.ipynb\n",
      "\n"
     ]
    }
   ],
   "source": [
    "print(output)"
   ]
  },
  {
   "cell_type": "markdown",
   "metadata": {},
   "source": [
    "# Git Commands"
   ]
  },
  {
   "cell_type": "code",
   "execution_count": 10,
   "metadata": {},
   "outputs": [],
   "source": [
    "git_status_output = subprocess.check_output('git status',shell=True,universal_newlines=True)"
   ]
  },
  {
   "cell_type": "code",
   "execution_count": 11,
   "metadata": {},
   "outputs": [
    {
     "name": "stdout",
     "output_type": "stream",
     "text": [
      "On branch master\n",
      "Your branch is up to date with 'origin/master'.\n",
      "\n",
      "Changes not staged for commit:\n",
      "  (use \"git add <file>...\" to update what will be committed)\n",
      "  (use \"git checkout -- <file>...\" to discard changes in working directory)\n",
      "\n",
      "\tmodified:   notebook_self_edit_function.ipynb\n",
      "\tmodified:   subprocess_comandline_function.ipynb\n",
      "\n",
      "no changes added to commit (use \"git add\" and/or \"git commit -a\")\n",
      "\n"
     ]
    }
   ],
   "source": [
    "print(git_status_output)"
   ]
  },
  {
   "cell_type": "code",
   "execution_count": 12,
   "metadata": {},
   "outputs": [],
   "source": [
    "git_add_output = subprocess.check_output('git add .',\n",
    "                                            shell=True,universal_newlines=True)"
   ]
  },
  {
   "cell_type": "code",
   "execution_count": 13,
   "metadata": {},
   "outputs": [
    {
     "name": "stdout",
     "output_type": "stream",
     "text": [
      "\n"
     ]
    }
   ],
   "source": [
    "print(git_add_output)"
   ]
  },
  {
   "cell_type": "markdown",
   "metadata": {},
   "source": [
    "the above git command cannot be printed since there is no output when adding in the command line"
   ]
  },
  {
   "cell_type": "code",
   "execution_count": null,
   "metadata": {},
   "outputs": [],
   "source": []
  },
  {
   "cell_type": "code",
   "execution_count": 14,
   "metadata": {},
   "outputs": [
    {
     "name": "stdout",
     "output_type": "stream",
     "text": [
      "[master f92bbc2] update\n",
      " 2 files changed, 133 insertions(+), 20 deletions(-)\n",
      "\n"
     ]
    }
   ],
   "source": [
    "git_commit_output = subprocess.check_output('git commit -m \"update\"',shell=True,universal_newlines=True)\n",
    "print(git_commit_output)"
   ]
  },
  {
   "cell_type": "code",
   "execution_count": 15,
   "metadata": {},
   "outputs": [
    {
     "name": "stdout",
     "output_type": "stream",
     "text": [
      "\n"
     ]
    }
   ],
   "source": [
    "git_push_output = subprocess.check_output('git push origin master',shell=True,universal_newlines=True)\n",
    "print(git_push_output)"
   ]
  },
  {
   "cell_type": "code",
   "execution_count": 16,
   "metadata": {},
   "outputs": [
    {
     "name": "stdout",
     "output_type": "stream",
     "text": [
      "\n"
     ]
    }
   ],
   "source": [
    "print(git_push_output)"
   ]
  },
  {
   "cell_type": "markdown",
   "metadata": {},
   "source": [
    "the above command does not have an output, but it runs. You can verify in the enviorment's commandline.\n",
    "This is due to the time it takes to updating repos. It is also difficult to verify whether your notebook is up to date if you are verifying with the same notebook you are editing. so make sure you arent making any edits to your code or else it'll think you are modifying and not up to date."
   ]
  },
  {
   "cell_type": "markdown",
   "metadata": {},
   "source": [
    "this is the reason why i made a new variable for git_status"
   ]
  },
  {
   "cell_type": "code",
   "execution_count": 17,
   "metadata": {},
   "outputs": [
    {
     "name": "stdout",
     "output_type": "stream",
     "text": [
      "On branch master\n",
      "Your branch is up to date with 'origin/master'.\n",
      "\n",
      "nothing to commit, working tree clean\n",
      "\n"
     ]
    }
   ],
   "source": [
    "git_status_output2 = subprocess.check_output('git status',shell=True,universal_newlines=True)\n",
    "print(git_status_output2)"
   ]
  },
  {
   "cell_type": "markdown",
   "metadata": {},
   "source": [
    "# Git Commands Function"
   ]
  },
  {
   "cell_type": "markdown",
   "metadata": {},
   "source": [
    "this_notebook='subprocess_comandline_function.ipynb'\n",
    "\n",
    "git_add_output = subprocess.check_output('git add '+this_notebook,\n",
    "                                            shell=True,universal_newlines=True)\n",
    "git_commit_output = subprocess.check_output('git commit -m \"update\"',\n",
    "                                            shell=True,universal_newlines=True)\n",
    "git_push_output = subprocess.check_output('git push origin master',\n",
    "                                            shell=True,universal_newlines=True)\n",
    "\n"
   ]
  },
  {
   "cell_type": "code",
   "execution_count": 18,
   "metadata": {},
   "outputs": [],
   "source": [
    "this_notebook='subprocess_comandline_function.ipynb'"
   ]
  },
  {
   "cell_type": "markdown",
   "metadata": {
    "scrolled": false
   },
   "source": [
    "git_status_output2 = subprocess.check_output('git status',shell=True,universal_newlines=True)\n",
    "print(git_status_output2)"
   ]
  },
  {
   "cell_type": "code",
   "execution_count": 21,
   "metadata": {},
   "outputs": [],
   "source": [
    "def makegitcommit(updatednotebook):\n",
    "    git_add_output = subprocess.check_output('git add '+updatednotebook,\n",
    "                                            shell=True,universal_newlines=True)\n",
    "    git_commit_output = subprocess.check_output('git commit -m \"update\"',\n",
    "                                            shell=True,universal_newlines=True)\n",
    "    git_push_output = subprocess.check_output('git push origin master',\n",
    "                                            shell=True,universal_newlines=True)\n",
    "    git_status_output2 = subprocess.check_output('git status',shell=True,universal_newlines=True)\n",
    "    print(git_status_output2)"
   ]
  },
  {
   "cell_type": "code",
   "execution_count": 22,
   "metadata": {},
   "outputs": [
    {
     "name": "stdout",
     "output_type": "stream",
     "text": [
      "On branch master\n",
      "Your branch is up to date with 'origin/master'.\n",
      "\n",
      "nothing to commit, working tree clean\n",
      "\n"
     ]
    }
   ],
   "source": [
    "makegitcommit(this_notebook)"
   ]
  },
  {
   "cell_type": "markdown",
   "metadata": {},
   "source": [
    "for now this function only commits notebooks in its current repo..."
   ]
  },
  {
   "cell_type": "code",
   "execution_count": null,
   "metadata": {},
   "outputs": [],
   "source": []
  }
 ],
 "metadata": {
  "kernelspec": {
   "display_name": "Python 3",
   "language": "python",
   "name": "python3"
  },
  "language_info": {
   "codemirror_mode": {
    "name": "ipython",
    "version": 3
   },
   "file_extension": ".py",
   "mimetype": "text/x-python",
   "name": "python",
   "nbconvert_exporter": "python",
   "pygments_lexer": "ipython3",
   "version": "3.7.1"
  },
  "toc": {
   "base_numbering": 1,
   "nav_menu": {},
   "number_sections": true,
   "sideBar": true,
   "skip_h1_title": false,
   "title_cell": "Table of Contents",
   "title_sidebar": "Contents",
   "toc_cell": false,
   "toc_position": {},
   "toc_section_display": true,
   "toc_window_display": false
  }
 },
 "nbformat": 4,
 "nbformat_minor": 2
}
